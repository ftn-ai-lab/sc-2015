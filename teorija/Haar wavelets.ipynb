{
 "cells": [
  {
   "cell_type": "markdown",
   "metadata": {},
   "source": [
    "#Soft Computing\n",
    "##Haar wavelet transformacija\n"
   ]
  },
  {
   "cell_type": "code",
   "execution_count": 1,
   "metadata": {
    "collapsed": false
   },
   "outputs": [],
   "source": [
    "%matplotlib inline\n",
    "\n",
    "import pywt\n",
    "from pywt import WaveletPacket2D\n",
    "import matplotlib.pyplot as plt\n",
    "import random\n",
    "from sklearn import datasets\n",
    "from sklearn import svm\n",
    "%matplotlib inline"
   ]
  },
  {
   "cell_type": "code",
   "execution_count": 2,
   "metadata": {
    "collapsed": false
   },
   "outputs": [],
   "source": [
    "digits = datasets.load_digits()"
   ]
  },
  {
   "cell_type": "code",
   "execution_count": 3,
   "metadata": {
    "collapsed": false
   },
   "outputs": [
    {
     "name": "stdout",
     "output_type": "stream",
     "text": [
      "[[  0.   0.   5. ...,   0.   0.   0.]\n",
      " [  0.   0.   0. ...,  10.   0.   0.]\n",
      " [  0.   0.   0. ...,  16.   9.   0.]\n",
      " ..., \n",
      " [  0.   0.   1. ...,   6.   0.   0.]\n",
      " [  0.   0.   2. ...,  12.   0.   0.]\n",
      " [  0.   0.  10. ...,  12.   1.   0.]]\n",
      "1797\n"
     ]
    }
   ],
   "source": [
    "print(digits.data)\n",
    "print(len(digits.data))"
   ]
  },
  {
   "cell_type": "code",
   "execution_count": 4,
   "metadata": {
    "collapsed": true
   },
   "outputs": [],
   "source": [
    "sample = 456\n",
    "x = digits.images[sample]"
   ]
  },
  {
   "cell_type": "code",
   "execution_count": 5,
   "metadata": {
    "collapsed": false
   },
   "outputs": [
    {
     "name": "stdout",
     "output_type": "stream",
     "text": [
      "[[  0.   0.   0.   2.  16.  15.   3.   0.]\n",
      " [  0.   0.   0.   8.  16.  16.   4.   0.]\n",
      " [  0.   0.   9.  16.  16.  14.   0.   0.]\n",
      " [  0.   7.  16.  16.  16.  12.   0.   0.]\n",
      " [  0.   0.   0.   8.  16.  12.   0.   0.]\n",
      " [  0.   0.   0.   7.  16.  12.   0.   0.]\n",
      " [  0.   0.   0.   4.  16.  16.   7.   0.]\n",
      " [  0.   0.   0.   0.  13.  16.   7.   0.]]\n",
      "1\n"
     ]
    }
   ],
   "source": [
    "print(x)\n",
    "print(digits.target[sample])"
   ]
  },
  {
   "cell_type": "code",
   "execution_count": 6,
   "metadata": {
    "collapsed": false
   },
   "outputs": [
    {
     "data": {
      "text/plain": [
       "<matplotlib.image.AxesImage at 0x160bf358>"
      ]
     },
     "execution_count": 6,
     "metadata": {},
     "output_type": "execute_result"
    },
    {
     "data": {
      "image/png": "[encoded data removed]",
      "text/plain": [
       "<matplotlib.figure.Figure at 0x15afde80>"
      ]
     },
     "metadata": {},
     "output_type": "display_data"
    }
   ],
   "source": [
    "plt.imshow(x, cmap=plt.cm.gray_r, interpolation='nearest')"
   ]
  },
  {
   "cell_type": "code",
   "execution_count": 7,
   "metadata": {
    "collapsed": true
   },
   "outputs": [],
   "source": [
    "wp = pywt.WaveletPacket2D(data=x, wavelet='db1', mode='sym')"
   ]
  },
  {
   "cell_type": "code",
   "execution_count": 8,
   "metadata": {
    "collapsed": false
   },
   "outputs": [
    {
     "name": "stdout",
     "output_type": "stream",
     "text": [
      ": [[  0.   0.   0.   2.  16.  15.   3.   0.]\n",
      " [  0.   0.   0.   8.  16.  16.   4.   0.]\n",
      " [  0.   0.   9.  16.  16.  14.   0.   0.]\n",
      " [  0.   7.  16.  16.  16.  12.   0.   0.]\n",
      " [  0.   0.   0.   8.  16.  12.   0.   0.]\n",
      " [  0.   0.   0.   7.  16.  12.   0.   0.]\n",
      " [  0.   0.   0.   4.  16.  16.   7.   0.]\n",
      " [  0.   0.   0.   0.  13.  16.   7.   0.]]\n"
     ]
    }
   ],
   "source": [
    "print(wp)"
   ]
  },
  {
   "cell_type": "markdown",
   "metadata": {},
   "source": [
    "a - LL, low-low coefficients\n",
    "h - LH, low-high coefficients\n",
    "v - HL, high-low coefficients\n",
    "d - HH, high-high coefficients"
   ]
  },
  {
   "cell_type": "raw",
   "metadata": {},
   "source": [
    "                            -------------------\n",
    "                            |        |        |\n",
    "                            | cA(LL) | cH(LH) |\n",
    "                            |        |        |\n",
    "(cA, (cH, cV, cD))  <--->   -------------------\n",
    "                            |        |        |\n",
    "                            | cV(HL) | cD(HH) |\n",
    "                            |        |        |\n",
    "                            -------------------"
   ]
  },
  {
   "cell_type": "code",
   "execution_count": 9,
   "metadata": {
    "collapsed": false
   },
   "outputs": [
    {
     "name": "stdout",
     "output_type": "stream",
     "text": [
      "[[  0.    5.   31.5   3.5]\n",
      " [  3.5  28.5  29.    0. ]\n",
      " [  0.    7.5  28.    0. ]\n",
      " [  0.    2.   30.5   7. ]]\n"
     ]
    }
   ],
   "source": [
    "print wp['a'].data"
   ]
  },
  {
   "cell_type": "code",
   "execution_count": 10,
   "metadata": {
    "collapsed": true
   },
   "outputs": [],
   "source": [
    "new_wp = pywt.WaveletPacket2D(data=None, wavelet='db1', mode='sym')"
   ]
  },
  {
   "cell_type": "code",
   "execution_count": 11,
   "metadata": {
    "collapsed": false
   },
   "outputs": [],
   "source": [
    "new_wp['a'] =wp['a'].data\n",
    "new_wp['h'] =wp['h'].data\n",
    "new_wp['v'] =wp['v'].data\n",
    "new_wp['d'] =[[0,0,0,0],[0,0,0,0],[0,0,0,0],[0,0,0,0]]"
   ]
  },
  {
   "cell_type": "code",
   "execution_count": 13,
   "metadata": {
    "collapsed": false,
    "scrolled": true
   },
   "outputs": [
    {
     "name": "stdout",
     "output_type": "stream",
     "text": [
      "[[  0.     0.    -1.5    3.5   15.75  15.25   3.25  -0.25]\n",
      " [  0.     0.     1.5    6.5   16.25  15.75   3.75   0.25]\n",
      " [ -1.75   1.75  10.75  14.25  16.5   13.5    0.     0.  ]\n",
      " [  1.75   5.25  14.25  17.75  15.5   12.5    0.     0.  ]\n",
      " [  0.     0.     0.25   7.75  16.    12.     0.     0.  ]\n",
      " [  0.     0.    -0.25   7.25  16.    12.     0.     0.  ]\n",
      " [  0.     0.     1.     3.    15.25  16.75   7.     0.  ]\n",
      " [  0.     0.    -1.     1.    13.75  15.25   7.     0.  ]]\n"
     ]
    }
   ],
   "source": [
    "ww = new_wp.reconstruct(update=False)\n",
    "print ww"
   ]
  },
  {
   "cell_type": "code",
   "execution_count": 15,
   "metadata": {
    "collapsed": false
   },
   "outputs": [
    {
     "data": {
      "text/plain": [
       "<matplotlib.image.AxesImage at 0x163fd0b8>"
      ]
     },
     "execution_count": 15,
     "metadata": {},
     "output_type": "execute_result"
    },
    {
     "data": {
      "image/png": "[encoded data removed]",
      "text/plain": [
       "<matplotlib.figure.Figure at 0x16442550>"
      ]
     },
     "metadata": {},
     "output_type": "display_data"
    }
   ],
   "source": [
    "plt.imshow(ww, cmap=plt.cm.gray_r, interpolation='nearest')"
   ]
  },
  {
   "cell_type": "code",
   "execution_count": 16,
   "metadata": {
    "collapsed": true
   },
   "outputs": [],
   "source": [
    "clf = svm.SVC(gamma=0.001, C=100)"
   ]
  },
  {
   "cell_type": "code",
   "execution_count": 17,
   "metadata": {
    "collapsed": true
   },
   "outputs": [],
   "source": [
    "X,y = digits.data[:-10], digits.target[:-10]"
   ]
  },
  {
   "cell_type": "code",
   "execution_count": 18,
   "metadata": {
    "collapsed": false
   },
   "outputs": [
    {
     "data": {
      "text/plain": [
       "SVC(C=100, cache_size=200, class_weight=None, coef0=0.0, degree=3,\n",
       "  gamma=0.001, kernel='rbf', max_iter=-1, probability=False,\n",
       "  random_state=None, shrinking=True, tol=0.001, verbose=False)"
      ]
     },
     "execution_count": 18,
     "metadata": {},
     "output_type": "execute_result"
    }
   ],
   "source": [
    "clf.fit(X,y)"
   ]
  },
  {
   "cell_type": "code",
   "execution_count": 20,
   "metadata": {
    "collapsed": false
   },
   "outputs": [
    {
     "name": "stdout",
     "output_type": "stream",
     "text": [
      "[  0.     0.    -1.5    3.5   15.75  15.25   3.25  -0.25   0.     0.     1.5\n",
      "   6.5   16.25  15.75   3.75   0.25  -1.75   1.75  10.75  14.25  16.5   13.5\n",
      "   0.     0.     1.75   5.25  14.25  17.75  15.5   12.5    0.     0.     0.\n",
      "   0.     0.25   7.75  16.    12.     0.     0.     0.     0.    -0.25\n",
      "   7.25  16.    12.     0.     0.     0.     0.     1.     3.    15.25\n",
      "  16.75   7.     0.     0.     0.    -1.     1.    13.75  15.25   7.     0.  ]\n"
     ]
    }
   ],
   "source": [
    "import numpy as np\n",
    "wN = np.array(ww).flatten()\n",
    "print(wN)"
   ]
  },
  {
   "cell_type": "code",
   "execution_count": 21,
   "metadata": {
    "collapsed": false
   },
   "outputs": [
    {
     "name": "stdout",
     "output_type": "stream",
     "text": [
      "[1]\n"
     ]
    }
   ],
   "source": [
    "print(clf.predict(wN))"
   ]
  },
  {
   "cell_type": "code",
   "execution_count": null,
   "metadata": {
    "collapsed": true
   },
   "outputs": [],
   "source": []
  }
 ],
 "metadata": {
  "kernelspec": {
   "display_name": "Python 2",
   "language": "python",
   "name": "python2"
  },
  "language_info": {
   "codemirror_mode": {
    "name": "ipython",
    "version": 2
   },
   "file_extension": ".py",
   "mimetype": "text/x-python",
   "name": "python",
   "nbconvert_exporter": "python",
   "pygments_lexer": "ipython2",
   "version": "2.7.10"
  }
 },
 "nbformat": 4,
 "nbformat_minor": 0
}
