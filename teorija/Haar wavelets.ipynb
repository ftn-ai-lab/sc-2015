{
 "cells": [
  {
   "cell_type": "markdown",
   "metadata": {},
   "source": [
    "#Soft Computing\n",
    "##Haar wavelet transformacija\n"
   ]
  },
  {
   "cell_type": "code",
   "execution_count": 14,
   "metadata": {
    "collapsed": false
   },
   "outputs": [],
   "source": [
    "%matplotlib inline\n",
    "\n",
    "import pywt\n",
    "from pywt import WaveletPacket2D\n",
    "import matplotlib.pyplot as plt\n",
    "import random\n",
    "from sklearn import datasets\n",
    "from sklearn import svm\n",
    "%matplotlib inline"
   ]
  },
  {
   "cell_type": "code",
   "execution_count": 15,
   "metadata": {
    "collapsed": false
   },
   "outputs": [],
   "source": [
    "digits = datasets.load_digits()"
   ]
  },
  {
   "cell_type": "code",
   "execution_count": 16,
   "metadata": {
    "collapsed": false
   },
   "outputs": [
    {
     "name": "stdout",
     "output_type": "stream",
     "text": [
      "[[  0.   0.   5. ...,   0.   0.   0.]\n",
      " [  0.   0.   0. ...,  10.   0.   0.]\n",
      " [  0.   0.   0. ...,  16.   9.   0.]\n",
      " ..., \n",
      " [  0.   0.   1. ...,   6.   0.   0.]\n",
      " [  0.   0.   2. ...,  12.   0.   0.]\n",
      " [  0.   0.  10. ...,  12.   1.   0.]]\n",
      "1797\n"
     ]
    }
   ],
   "source": [
    "print(digits.data)\n",
    "print(len(digits.data))"
   ]
  },
  {
   "cell_type": "code",
   "execution_count": 92,
   "metadata": {
    "collapsed": true
   },
   "outputs": [],
   "source": [
    "sample = 114\n",
    "x = digits.images[sample]"
   ]
  },
  {
   "cell_type": "code",
   "execution_count": 93,
   "metadata": {
    "collapsed": false
   },
   "outputs": [
    {
     "name": "stdout",
     "output_type": "stream",
     "text": [
      "[[  0.   0.   4.   9.  13.   5.   0.   0.]\n",
      " [  0.   1.  16.  16.  12.  11.   0.   0.]\n",
      " [  0.   0.  11.   8.   5.  16.   0.   0.]\n",
      " [  0.   0.   7.  10.  13.  10.   0.   0.]\n",
      " [  0.   0.   4.  16.  13.   0.   0.   0.]\n",
      " [  0.   0.  13.  15.  12.   0.   0.   0.]\n",
      " [  0.   0.  11.   9.  14.   5.   0.   0.]\n",
      " [  0.   0.   0.  10.  16.   8.   0.   0.]]\n",
      "8\n"
     ]
    }
   ],
   "source": [
    "print(x)\n",
    "print(digits.target[sample])"
   ]
  },
  {
   "cell_type": "code",
   "execution_count": 94,
   "metadata": {
    "collapsed": false
   },
   "outputs": [
    {
     "data": {
      "text/plain": [
       "<matplotlib.image.AxesImage at 0x1a374898>"
      ]
     },
     "execution_count": 94,
     "metadata": {},
     "output_type": "execute_result"
    },
    {
     "data": {
      "image/png": "[encoded data removed]",
      "text/plain": [
       "<matplotlib.figure.Figure at 0x1ae3d9b0>"
      ]
     },
     "metadata": {},
     "output_type": "display_data"
    }
   ],
   "source": [
    "plt.imshow(x, cmap=plt.cm.gray_r, interpolation='nearest')"
   ]
  },
  {
   "cell_type": "code",
   "execution_count": 95,
   "metadata": {
    "collapsed": true
   },
   "outputs": [],
   "source": [
    "wp = pywt.WaveletPacket2D(data=x, wavelet='db1', mode='sym')"
   ]
  },
  {
   "cell_type": "code",
   "execution_count": 96,
   "metadata": {
    "collapsed": false
   },
   "outputs": [
    {
     "name": "stdout",
     "output_type": "stream",
     "text": [
      ": [[  0.   0.   4.   9.  13.   5.   0.   0.]\n",
      " [  0.   1.  16.  16.  12.  11.   0.   0.]\n",
      " [  0.   0.  11.   8.   5.  16.   0.   0.]\n",
      " [  0.   0.   7.  10.  13.  10.   0.   0.]\n",
      " [  0.   0.   4.  16.  13.   0.   0.   0.]\n",
      " [  0.   0.  13.  15.  12.   0.   0.   0.]\n",
      " [  0.   0.  11.   9.  14.   5.   0.   0.]\n",
      " [  0.   0.   0.  10.  16.   8.   0.   0.]]\n"
     ]
    }
   ],
   "source": [
    "print(wp)"
   ]
  },
  {
   "cell_type": "markdown",
   "metadata": {},
   "source": [
    "a - LL, low-low coefficients\n",
    "h - LH, low-high coefficients\n",
    "v - HL, high-low coefficients\n",
    "d - HH, high-high coefficients"
   ]
  },
  {
   "cell_type": "raw",
   "metadata": {},
   "source": [
    "                            -------------------\n",
    "                            |        |        |\n",
    "                            | cA(LL) | cH(LH) |\n",
    "                            |        |        |\n",
    "(cA, (cH, cV, cD))  <--->   -------------------\n",
    "                            |        |        |\n",
    "                            | cV(HL) | cD(HH) |\n",
    "                            |        |        |\n",
    "                            -------------------"
   ]
  },
  {
   "cell_type": "code",
   "execution_count": 97,
   "metadata": {
    "collapsed": false
   },
   "outputs": [
    {
     "name": "stdout",
     "output_type": "stream",
     "text": [
      "[[  0.5  22.5  20.5   0. ]\n",
      " [  0.   18.   22.    0. ]\n",
      " [  0.   24.   12.5   0. ]\n",
      " [  0.   15.   21.5   0. ]]\n"
     ]
    }
   ],
   "source": [
    "print wp['a'].data"
   ]
  },
  {
   "cell_type": "code",
   "execution_count": 98,
   "metadata": {
    "collapsed": true
   },
   "outputs": [],
   "source": [
    "new_wp = pywt.WaveletPacket2D(data=None, wavelet='db1', mode='sym')"
   ]
  },
  {
   "cell_type": "code",
   "execution_count": 99,
   "metadata": {
    "collapsed": false
   },
   "outputs": [],
   "source": [
    "new_wp['a'] =wp['a'].data\n",
    "new_wp['h'] =wp['h'].data\n",
    "new_wp['v'] =wp['v'].data\n",
    "new_wp['d'] =[[0,0,0,0],[0,0,0,0],[0,0,0,0],[0,0,0,0]]"
   ]
  },
  {
   "cell_type": "code",
   "execution_count": 100,
   "metadata": {
    "collapsed": false,
    "scrolled": true
   },
   "outputs": [
    {
     "name": "stdout",
     "output_type": "stream",
     "text": [
      "[[ -0.25   0.25   5.25   7.75  11.25   6.75   0.     0.  ]\n",
      " [  0.25   0.75  14.75  17.25  13.75   9.25   0.     0.  ]\n",
      " [  0.     0.     9.5    9.5    8.5   12.5    0.     0.  ]\n",
      " [  0.     0.     8.5    8.5    9.5   13.5    0.     0.  ]\n",
      " [  0.     0.     6.5   13.5   12.75   0.25   0.     0.  ]\n",
      " [  0.     0.    10.5   17.5   12.25  -0.25   0.     0.  ]\n",
      " [  0.     0.     8.    12.    13.75   5.25   0.     0.  ]\n",
      " [  0.     0.     3.     7.    16.25   7.75   0.     0.  ]]\n"
     ]
    }
   ],
   "source": [
    "ww = new_wp.reconstruct(update=False)\n",
    "print ww"
   ]
  },
  {
   "cell_type": "code",
   "execution_count": 101,
   "metadata": {
    "collapsed": false
   },
   "outputs": [
    {
     "data": {
      "text/plain": [
       "<matplotlib.image.AxesImage at 0x19f9eef0>"
      ]
     },
     "execution_count": 101,
     "metadata": {},
     "output_type": "execute_result"
    },
    {
     "data": {
      "image/png": "[encoded data removed]",
      "text/plain": [
       "<matplotlib.figure.Figure at 0x1b64d898>"
      ]
     },
     "metadata": {},
     "output_type": "display_data"
    }
   ],
   "source": [
    "plt.imshow(ww, cmap=plt.cm.gray_r, interpolation='nearest')"
   ]
  },
  {
   "cell_type": "code",
   "execution_count": 102,
   "metadata": {
    "collapsed": true
   },
   "outputs": [],
   "source": [
    "clf = svm.SVC(gamma=0.001, C=100)"
   ]
  },
  {
   "cell_type": "code",
   "execution_count": 103,
   "metadata": {
    "collapsed": true
   },
   "outputs": [],
   "source": [
    "X,y = digits.data[:-10], digits.target[:-10]"
   ]
  },
  {
   "cell_type": "code",
   "execution_count": 104,
   "metadata": {
    "collapsed": false
   },
   "outputs": [
    {
     "data": {
      "text/plain": [
       "SVC(C=100, cache_size=200, class_weight=None, coef0=0.0, degree=3,\n",
       "  gamma=0.001, kernel='rbf', max_iter=-1, probability=False,\n",
       "  random_state=None, shrinking=True, tol=0.001, verbose=False)"
      ]
     },
     "execution_count": 104,
     "metadata": {},
     "output_type": "execute_result"
    }
   ],
   "source": [
    "clf.fit(X,y)"
   ]
  },
  {
   "cell_type": "code",
   "execution_count": 105,
   "metadata": {
    "collapsed": false
   },
   "outputs": [
    {
     "name": "stdout",
     "output_type": "stream",
     "text": [
      "[ -0.25   0.25   5.25   7.75  11.25   6.75   0.     0.     0.25   0.75\n",
      "  14.75  17.25  13.75   9.25   0.     0.     0.     0.     9.5    9.5    8.5\n",
      "  12.5    0.     0.     0.     0.     8.5    8.5    9.5   13.5    0.     0.\n",
      "   0.     0.     6.5   13.5   12.75   0.25   0.     0.     0.     0.    10.5\n",
      "  17.5   12.25  -0.25   0.     0.     0.     0.     8.    12.    13.75\n",
      "   5.25   0.     0.     0.     0.     3.     7.    16.25   7.75   0.     0.  ]\n"
     ]
    }
   ],
   "source": [
    "wN = np.array(ww).flatten()\n",
    "print(wN)"
   ]
  },
  {
   "cell_type": "code",
   "execution_count": 106,
   "metadata": {
    "collapsed": false
   },
   "outputs": [
    {
     "name": "stdout",
     "output_type": "stream",
     "text": [
      "[8]\n"
     ]
    }
   ],
   "source": [
    "print(clf.predict(wN))"
   ]
  },
  {
   "cell_type": "code",
   "execution_count": null,
   "metadata": {
    "collapsed": true
   },
   "outputs": [],
   "source": []
  }
 ],
 "metadata": {
  "kernelspec": {
   "display_name": "Python 2",
   "language": "python",
   "name": "python2"
  },
  "language_info": {
   "codemirror_mode": {
    "name": "ipython",
    "version": 2
   },
   "file_extension": ".py",
   "mimetype": "text/x-python",
   "name": "python",
   "nbconvert_exporter": "python",
   "pygments_lexer": "ipython2",
   "version": "2.7.10"
  }
 },
 "nbformat": 4,
 "nbformat_minor": 0
}
