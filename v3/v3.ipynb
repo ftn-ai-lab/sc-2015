{
 "cells": [
  {
   "cell_type": "markdown",
   "metadata": {},
   "source": [
    "# Soft Computing - rač. vežba 3"
   ]
  },
  {
   "cell_type": "markdown",
   "metadata": {},
   "source": [
    "## K-means algoritam\n",
    "Cilj ovih vežbi jeste implementacija K-means algoritma za grupisanje i njegova primena u OCR-u, kroz Scikit-learn biblioteku.\n",
    "* Scikit-learn - biblioteka za mašinsko učenje u Python-u (http://scikit-learn.org/stable/)\n",
    "\n",
    "### Algoritam\n",
    "Pomoću K-Means algoritma moguće je izvršiti podelu prostora na k grupa, gde je svaka od njih određena svojom centralnom tačkom. Svrstavanje nekog elementa u jednu od grupa se svodi na određivanje njemu najbižeg centra, po Euklidskom rastojanju.\n",
    "<img src=\"images/plot_kmeans.png\"></img>\n",
    "#### Ulazni parametri algoritma\n",
    "Za rad K-Means algoritma neophodno je poznavati broj grupa u napred.\n",
    "\n",
    "#### Pseudo-kod\n",
    "```code\n",
    "za svaku grupu inicijalizovati nasumično centar\n",
    "dok se centri ne prestanu kretati za predodređeni minimum ili ne dostigne predodređeni broj iteracija radi:\n",
    "    pridruži svaki element iz skupa grupi sa njemu najbližim centrom\n",
    "    pomeri centar svih grupa na osnovu novih elemenata\n",
    "```"
   ]
  },
  {
   "cell_type": "code",
   "execution_count": null,
   "metadata": {
    "collapsed": true
   },
   "outputs": [],
   "source": [
    "#import potrebnih biblioteka za K-means algoritam\n",
    "%matplotlib inline\n",
    "import numpy as np\n",
    "import matplotlib.pyplot as plt\n",
    "from scipy.spatial import distance\n",
    "\n",
    "#Sklearn biblioteka sa implementiranim K-means algoritmom\n",
    "from sklearn import datasets\n",
    "from sklearn.cluster import KMeans\n",
    "iris = datasets.load_iris() #Iris dataset koji će se koristiti kao primer https://en.wikipedia.org/wiki/Iris_flower_data_set"
   ]
  },
  {
   "cell_type": "markdown",
   "metadata": {},
   "source": [
    "###Pomoćna funkcija za ispis\n",
    "Funkcija će biti korišćena kako bi se prikazala konvergencija K-means algoritma kroz svaku iteraciju."
   ]
  },
  {
   "cell_type": "code",
   "execution_count": null,
   "metadata": {
    "collapsed": true
   },
   "outputs": [],
   "source": [
    "def display_progress(data, centers, labels):\n",
    "    '''\n",
    "    Funkcija služi za debagovanje postupka pomeranja grupa\n",
    "    '''\n",
    "    colors = iter(plt.cm.gist_rainbow(np.linspace(0,1,len(centers)))) #formira se iterabilna lista od n različitih boja\n",
    "    for idx, center in enumerate(centers):\n",
    "        center_group = data[np.where(labels == idx)] #niz tačaka koje pripadaju grupi određenoj centrom 'center'\n",
    "        color = next(colors) #uzima se boja za svaku grupu\n",
    "        plt.scatter(center_group[:,0],center_group[:,1], c=color, marker='o', s=50) #iscrtavanje tačaka u grupi\n",
    "        plt.scatter(center[0],center[1], c=color, marker='x', s=200) #iscrtavanje centara\n",
    "    plt.show()"
   ]
  },
  {
   "cell_type": "markdown",
   "metadata": {},
   "source": [
    "#TODO 1\n",
    "Implementirati funkciju koja vraća dve nasumično odabrane tačke iz niza."
   ]
  },
  {
   "cell_type": "code",
   "execution_count": null,
   "metadata": {
    "collapsed": false
   },
   "outputs": [],
   "source": [
    "# TODO 1\n",
    "\n",
    "# eksplicitnim postavljanjem seed-a za random vrednosti, možemo da kontrolišemo rešenje algoritma (i testa)\n",
    "np.random.seed(6);\n",
    "\n",
    "def init_centers(data, n_clusters):\n",
    "    '''\n",
    "    Funkcija vraća niz od 'n_clusters' tačaka koje su nasumično odabrane.\n",
    "    Args:\n",
    "        data: niz tačaka koje se klasifikuju.\n",
    "        n_clusters: broj grupa na koje se podaci klasifikuju.\n",
    "    Return:\n",
    "        niz tačaka koji određuju centre grupa.\n",
    "    '''\n",
    "    centers = []\n",
    "    return np.array(centers)\n",
    "\n",
    "# TODO 1 test\n",
    "todo_1_data = range(10)\n",
    "todo_1_result = init_centers(todo_1_data, 2)\n",
    "todo_1_ref = np.array([9, 3])\n",
    "print 'TODO 1 test passed:', np.array_equal(todo_1_result, todo_1_ref)"
   ]
  },
  {
   "cell_type": "markdown",
   "metadata": {},
   "source": [
    "#TODO 2\n",
    "Implementirati funkciju koja računa euklidsko rastojanje između dve tačke. Ova funkcija će biti upotrebljena kako bi se odredio pomeraj centara grupa iz iteracije u iteraciju, kao i pripadnost neke tačke određenoj grupi."
   ]
  },
  {
   "cell_type": "code",
   "execution_count": null,
   "metadata": {
    "collapsed": false
   },
   "outputs": [],
   "source": [
    "# TODO 2\n",
    "def get_distance(pt1, pt2):\n",
    "    '''\n",
    "    Funkcija implementira izračunavanje rastojanja između dve tačke\n",
    "    Args:\n",
    "        pt1, pt2: vektori koji određuju koordinate tačaka\n",
    "    Return:\n",
    "        rastojanje između tačaka\n",
    "    '''\n",
    "    return 0\n",
    "\n",
    "# TODO 2 test\n",
    "todo_2_pt1, todo_2_pt2 = [0, 0], [3, 4]\n",
    "todo_2_result = get_distance(todo_2_pt1, todo_2_pt2)\n",
    "todo_2_ref = 5\n",
    "print 'TODO 2 test passed:', todo_2_result == todo_2_ref"
   ]
  },
  {
   "cell_type": "markdown",
   "metadata": {},
   "source": [
    "#TODO 3\n",
    "Implementirati funkciju koja vraća pripadnost prosleđenih tačaka grupama. Ovo je glavna funkcija koja će se koristiti nakon što se centri grupa odrede, ali igra ulogu i tokom same konvergencije K-means algoritma."
   ]
  },
  {
   "cell_type": "code",
   "execution_count": null,
   "metadata": {
    "collapsed": false
   },
   "outputs": [],
   "source": [
    "# TODO 3\n",
    "def predict(data, centers):\n",
    "    '''\n",
    "    Funkcija implementira predikciju pripadnusti svake tačke iz niza 'data', za grupe\n",
    "    koje su određene centrima iz niza 'centers'\n",
    "    Args:\n",
    "        data: niz tačaka koje treba klasifikovati\n",
    "        centers: kalkulisani centri grupa\n",
    "    Return:\n",
    "        Niz čiji elementi sadrže indeks grupe kojoj element na toj poziciji odgovara\n",
    "    Primer:\n",
    "        data = [[1,1], [2,2], [3,3]]\n",
    "        centers = [[1,1], [4,4]]\n",
    "        ret_val = [0, 0, 1]\n",
    "    '''\n",
    "    ret_val = []\n",
    "    for point in data:\n",
    "        # Pronaći udaljenost trenutne tačke od svakog centra i zapamtiti vrednost\n",
    "        # Odrediti minimalnu takvu udaljenost i dodati indeks tog centra u ret_val\n",
    "        \n",
    "    return np.array(ret_val)\n",
    "\n",
    "# TODO 3 test\n",
    "todo_3_data = np.array([[1,1], [2,2], [3,3]], np.float32)\n",
    "todo_3_centers = np.array([[1,1], [4,4]], np.float32)\n",
    "todo_3_result = predict(todo_3_data, todo_3_centers)\n",
    "todo_3_ref = np.array([0,0,1])\n",
    "print 'TODO 3 test passed:', np.array_equal(todo_3_result, todo_3_ref)"
   ]
  },
  {
   "cell_type": "markdown",
   "metadata": {},
   "source": [
    "#TODO 4\n",
    "Implementirati funkciju koja koristi podatke o pripadnosti grupama određenih tačaka, dobijeni iz funkcije predict, i izračunava nove centre kao srednje tačke određenih grupa."
   ]
  },
  {
   "cell_type": "code",
   "execution_count": null,
   "metadata": {
    "collapsed": false
   },
   "outputs": [],
   "source": [
    "# TODO 4\n",
    "def shift_centers(data, centers, labels):\n",
    "    '''\n",
    "    Funkcija implementira pomeranje prosleđenih centara grupa u odnosu na trenutnu pripadnost\n",
    "    tačaka, opisanu kroz niz labels.\n",
    "    Args:\n",
    "        data: niz tačaka koje se klasifikuju\n",
    "        centers: niz tačaka koje određuju trenutne centre\n",
    "        labels: niz koji određuje pripadnost tačaka iz 'data', predstavlja vrednost koja se dobije iz 'predict'\n",
    "            funkcije iz prethodnog zadatka.\n",
    "    Return:\n",
    "        (np.array, float) Funkcija treba da vrati izračunate nove centre na osnovu vrednosti koje pripadaju grupi,\n",
    "            i ukupno rastojanje za koje su se centri pomerili\n",
    "    '''\n",
    "    ret_val = [] # niz koji treba da sadrži nove centre\n",
    "    total_shift = 0 # ukupan pomeraj svih centara, odnosno suma rastojanja između starih i novih tačaka\n",
    "    for idx, center in enumerate(centers):\n",
    "        # Pronaći sve indekse elementata iz 'labels' čija je vrednost jednaka indeksu centra u trenutnoj iteraciji.\n",
    "        # Na primer labels: [0, 0, 1, 2, 0] za centar na poziciji 0, vraća niz [0, 1, 4]\n",
    "        # Iskoristiti novi niz kako bi se izvukli elementi iz data. data[0, 1, 4] će vratiti upravo te članove\n",
    "        cluster_data = data[(labels == idx).nonzero()]\n",
    "        \n",
    "        # U slučaju da postoje tačke koje pripadaju grupi sa centrom iz trenutne iteracije, odrediti\n",
    "        # novi centar kao srednju tačku svih tačaka grupe.\n",
    "        # Ako centar nema tačaka, on se neće pomeriti.\n",
    "            \n",
    "        # Dodati novi centar u ret_val\n",
    "        # Modifikovati total_shift za vrednost pomeraja (euklidsko rastojanje izmedju novog i starog centra)\n",
    "    \n",
    "    return np.array(ret_val), total_shift\n",
    "\n",
    "todo_4_data = np.array([[1,1], [2,2], [3,3]], np.float32)\n",
    "todo_4_centers = np.array([[1,1], [4,4]], np.float32)\n",
    "todo_4_labels = np.array([0, 0, 1])\n",
    "todo_4_new_centers, todo_4_shift = shift_centers(todo_4_data, todo_4_centers, todo_4_labels)\n",
    "print 'TODO 4 test passed (new centers):', np.array_equal(todo_4_new_centers, [[1.5, 1.5], [3, 3]])\n",
    "print 'TODO 4 test passed (total shift):', np.round(todo_4_shift,2) == 2.12"
   ]
  },
  {
   "cell_type": "markdown",
   "metadata": {},
   "source": [
    "#TODO 5\n",
    "Implementirati glavnu petlju algoritma."
   ]
  },
  {
   "cell_type": "code",
   "execution_count": null,
   "metadata": {
    "collapsed": false
   },
   "outputs": [],
   "source": [
    "# TODO 5\n",
    "def fit_clusters(data, n_clusters, tolerance, max_iter, verbose = False):\n",
    "    '''\n",
    "    Funkcija treba da implementira glavnu petlju koja formira grupe.\n",
    "    Args:\n",
    "        data: niz koje je potrebno klasifikovati.\n",
    "        n_clusters: broj grupa na koje se prostor deli.\n",
    "        tolerance: uslov prekida algoritma koji se upoređuje sa ukupnim pomerajem centara iz iteracije\n",
    "            u iteraciju.\n",
    "        max_iter: drugi uslov prekida algoritma koji određuje maksimalni broj iteracija.\n",
    "        verbose: određuje da li će se prikazivati grafici trenutnog stanja u svakoj iteraciji.\n",
    "    Return:\n",
    "        Povratna vrednost predstavlja niz od 'n_clusters' tačaka koje odgovaraju centrima grupa.\n",
    "    '''\n",
    "    # nasumično inicijalizovati početne centre grupa (TODO 1)\n",
    "    centers = []\n",
    "    data = np.array(data, np.float32)\n",
    "\n",
    "    for iteration in range(0, max_iter):\n",
    "        # Razvrstati tačke u grupe određene trenutnim centrima (TODO 3)\n",
    "        labels = []\n",
    "        # Izračunati nove centre grupa kao i njihov pomeraj, i postaviti ih u promenljive new_centersi shift. (TODO 4)\n",
    "        new_centers, total_shift = [], 0\n",
    "        \n",
    "        if (verbose):\n",
    "            print 'Iteration:', iteration+1, '\\nMean shift:', total_shift\n",
    "            display_progress(data, centers, labels)\n",
    "        centers = new_centers\n",
    "        \n",
    "        # Implementirati uslov prekida na osnovu parametra tolerance i ukupne vrednosti pomeraja centara\n",
    "        # u trenutnoj iteraciji (ako je ukupni pomeraj centara manji od zadatog parametra tolerance -> prekinuti)\n",
    "        \n",
    "    return centers"
   ]
  },
  {
   "cell_type": "markdown",
   "metadata": {},
   "source": [
    "#Primer na <i>Iris</i> dataset-u\n",
    "Na slici su prikazane stvarne vrednosti parametara za sve tri klase <i>Iris</i> cveta. Iscrtani grafici predstavljaju prikaze u odnosu na po dve osobine cveta.\n",
    "<img src=\"images/Anderson's_Iris_data_set.png\" height=\"70%\" width=\"70%\"></img>"
   ]
  },
  {
   "cell_type": "markdown",
   "metadata": {},
   "source": [
    "#Start\n",
    "Prvo se određuju centri, zatim se nad tim centrima može izvršiti predikcija za neku drugu tačku."
   ]
  },
  {
   "cell_type": "code",
   "execution_count": null,
   "metadata": {
    "collapsed": false
   },
   "outputs": [],
   "source": [
    "data = iris.data[:,1:3] #Odgovara Sepal.Width i Petal.Length osobinama\n",
    "calculated_centers = fit_clusters(data, 3, 0.00001, 5000, True)\n",
    "print 'Centri:', calculated_centers\n",
    "\n",
    "print 'Grupa za tacku [1,4]:',predict([[1,4]], calculated_centers)"
   ]
  },
  {
   "cell_type": "markdown",
   "metadata": {
    "collapsed": false
   },
   "source": [
    "#Scikit-learn K-Means implementacija\n",
    "Pomenuta scikit-learn biblioteka sadrži već implementiran K-Means algoritam koji ćemo koristiti u buduće."
   ]
  },
  {
   "cell_type": "code",
   "execution_count": null,
   "metadata": {
    "collapsed": false
   },
   "outputs": [],
   "source": [
    "k_means = KMeans(n_clusters=3, max_iter=5000, init='random', tol=0.00001, n_init=10)\n",
    "k_means.fit(data)\n",
    "display_progress(data, k_means.cluster_centers_, k_means.labels_)\n",
    "print k_means.cluster_centers_\n"
   ]
  },
  {
   "cell_type": "markdown",
   "metadata": {},
   "source": [
    "#Primena u OCR-u\n",
    "Do sada je rađeno optičko prepoznavanje brojeva i matematičkih izraza. Kada je reč o čitanju stvarnog teksta, deo problema predstavlja i određivanje granica između reči i redova u tekstu. Kao rešenje moguće je koristiti K-means algoritam i klasifikovati razmak između regiona na dve grupe:\n",
    "* Razmak između slova u reči\n",
    "* Razmak između reči"
   ]
  },
  {
   "cell_type": "code",
   "execution_count": null,
   "metadata": {
    "collapsed": true
   },
   "outputs": [],
   "source": [
    "#import potrebnih biblioteka\n",
    "import cv2\n",
    "import collections\n",
    "\n",
    "# keras\n",
    "from keras.models import Sequential\n",
    "from keras.layers.core import Dense,Activation\n",
    "from keras.optimizers import SGD\n",
    "\n",
    "import matplotlib.pylab as pylab\n",
    "pylab.rcParams['figure.figsize'] = 16, 12 # za prikaz većih slika i plotova, zakomentarisati ako nije potrebno"
   ]
  },
  {
   "cell_type": "code",
   "execution_count": null,
   "metadata": {
    "collapsed": false
   },
   "outputs": [],
   "source": [
    "#Funkcionalnost implementirana u V1\n",
    "def load_image(path):\n",
    "    return cv2.cvtColor(cv2.imread(path), cv2.COLOR_BGR2RGB)\n",
    "def image_gray(image):\n",
    "    return cv2.cvtColor(image, cv2.COLOR_RGB2GRAY)\n",
    "def image_bin(image_gs):\n",
    "    ret,image_bin = cv2.threshold(image_gs, 127, 255, cv2.THRESH_BINARY)\n",
    "    return image_bin\n",
    "def invert(image):\n",
    "    return 255-image\n",
    "def display_image(image, color= False):\n",
    "    if color:\n",
    "        plt.imshow(image)\n",
    "    else:\n",
    "        plt.imshow(image, 'gray')\n",
    "def dilate(image):\n",
    "    kernel = np.ones((3,3)) # strukturni element 3x3 blok\n",
    "    return cv2.dilate(image, kernel, iterations=1)\n",
    "def erode(image):\n",
    "    kernel = np.ones((3,3)) # strukturni element 3x3 blok\n",
    "    return cv2.erode(image, kernel, iterations=1)\n",
    "\n",
    "#Funkcionalnost implementirana u V2\n",
    "def resize_region(region):\n",
    "    resized = cv2.resize(region,(28,28), interpolation = cv2.INTER_NEAREST)\n",
    "    return resized\n",
    "def scale_to_range(image):\n",
    "    return image / 255\n",
    "def matrix_to_vector(image):\n",
    "    return image.flatten()\n",
    "def prepare_for_ann(regions):\n",
    "    ready_for_ann = []\n",
    "    for region in regions:\n",
    "        ready_for_ann.append(matrix_to_vector(scale_to_range(region)))\n",
    "    return ready_for_ann\n",
    "def convert_output(outputs):\n",
    "    return np.eye(len(outputs))\n",
    "def winner(output):\n",
    "    return max(enumerate(output), key=lambda x: x[1])[0]"
   ]
  },
  {
   "cell_type": "markdown",
   "metadata": {},
   "source": [
    "#TODO 6\n",
    "Modifikovati funkciju za određivanje regija od interesa, tako da vraća i vrednosti rastojanja po x osi, između svih regiona."
   ]
  },
  {
   "cell_type": "code",
   "execution_count": null,
   "metadata": {
    "collapsed": true
   },
   "outputs": [],
   "source": [
    "# TODO 6\n",
    "def select_roi(image_orig, image_bin):\n",
    "    '''\n",
    "    Funkcija kao u vežbi 2, iscrtava pravougaonike na originalnoj slici, pronalazi sortiran niz regiona sa slike,\n",
    "    i dodatno treba da sačuva rastojanja između susednih regiona.\n",
    "    '''\n",
    "    img, contours, hierarchy = cv2.findContours(image_bin.copy(), cv2.RETR_EXTERNAL, cv2.CHAIN_APPROX_SIMPLE)\n",
    "    #Način određivanja kontura je promenjen na spoljašnje konture: cv2.RETR_EXTERNAL\n",
    "    regions_dict = {}\n",
    "    for contour in contours: \n",
    "        x,y,w,h = cv2.boundingRect(contour)\n",
    "        region = image_bin[y:y+h+1,x:x+w+1];\n",
    "        # Proširiti regions_dict elemente sa vrednostima boundingRect-a ili samim konturama\n",
    "        regions_dict[x] = resize_region(region)\n",
    "        cv2.rectangle(image_orig,(x,y),(x+w,y+h),(0,255,0),2)\n",
    "        \n",
    "    sorted_regions_dict = collections.OrderedDict(sorted(regions_dict.items()))\n",
    "    sorted_regions = np.array(sorted_regions_dict.values())\n",
    "    \n",
    "    region_distances = []\n",
    "    # Izdvojiti sortirane parametre opisujućih pravougaonika\n",
    "    # Izračunati rastojanja između svih susednih regiona po x osi i dodati ih u region_distances niz\n",
    "    \n",
    "    return image_orig, sorted_regions, region_distances"
   ]
  },
  {
   "cell_type": "markdown",
   "metadata": {},
   "source": [
    "#TODO 7\n",
    "U odnosu na alfabet prikazan na slici, definisati i obučiti neuronsku mrežu.\n",
    "<img src=\"images/alphabet.png\"></img>"
   ]
  },
  {
   "cell_type": "code",
   "execution_count": null,
   "metadata": {
    "collapsed": true
   },
   "outputs": [],
   "source": [
    "# TODO 7\n",
    "def create_ann():\n",
    "    '''\n",
    "    Implementirati veštačku neuronsku mrežu sa 28x28 ulaznih neurona i jednim skrivenim slojem od 128 neurona.\n",
    "    Odrediti broj izlaznih neurona. Aktivaciona funkcija je sigmoid.\n",
    "    '''\n",
    "    ann = Sequential()\n",
    "    # Postaviti slojeve neurona mreže 'ann'\n",
    "    return ann\n",
    "    \n",
    "def train_ann(ann, X_train, y_train):\n",
    "    X_train = np.array(X_train, np.float32)\n",
    "    y_train = np.array(y_train, np.float32)\n",
    "   \n",
    "    # definisanje parametra algoritma za obucavanje\n",
    "    sgd = SGD(lr=0.01, momentum=0.9)\n",
    "    ann.compile(loss='mean_squared_error', optimizer=sgd)\n",
    "\n",
    "    # obucavanje neuronske mreze\n",
    "    ann.fit(X_train, y_train, nb_epoch=500, batch_size=1, verbose = 0, shuffle=False, show_accuracy = False) \n",
    "      \n",
    "    return ann"
   ]
  },
  {
   "cell_type": "code",
   "execution_count": null,
   "metadata": {
    "collapsed": false
   },
   "outputs": [],
   "source": [
    "image_color = load_image('images/alphabet.png')\n",
    "img = image_bin(image_gray(image_color))\n",
    "selected_regions, letters, region_distances = select_roi(image_color.copy(), img)\n",
    "display_image(selected_regions)\n",
    "print 'Broj prepoznatih regiona:', len(letters)"
   ]
  },
  {
   "cell_type": "code",
   "execution_count": null,
   "metadata": {
    "collapsed": false
   },
   "outputs": [],
   "source": [
    "alphabet = ['A','B','C','D','E','F','G','H','I','J','K','L','M','N','O','P','Q','R','S','T','U','V','W','X','Y','Z']\n",
    "inputs = prepare_for_ann(letters)\n",
    "outputs = convert_output(alphabet)\n",
    "ann = create_ann()\n",
    "ann = train_ann(ann, inputs, outputs)"
   ]
  },
  {
   "cell_type": "markdown",
   "metadata": {},
   "source": [
    "#Iščitavanje pune rečenice.\n",
    "Prvo se učitava slika, i određuju regioni od interesa kao i rastojanje među njima. Nakon toga, određuju se centri\n",
    "dve grupe rastojanja K-means algoritmom."
   ]
  },
  {
   "cell_type": "code",
   "execution_count": null,
   "metadata": {
    "collapsed": false,
    "scrolled": true
   },
   "outputs": [],
   "source": [
    "#Učitavanje slike i određivanje regiona od interesa\n",
    "image_color = load_image('images/LoremIpsum.png')\n",
    "img = image_bin(image_gray(image_color))\n",
    "selected_regions, letters, distances = select_roi(image_color.copy(), img)\n",
    "display_image(selected_regions)\n",
    "print 'Broj prepoznatih regiona:', len(letters)\n",
    "\n",
    "#Podešavanje centara grupa K-means algoritmom\n",
    "distances = np.array(distances).reshape(len(distances), 1)\n",
    "#Neophodno je da u K-means algoritam bude prosleđena matrica u kojoj vrste određuju elemente\n",
    "\n",
    "k_means = KMeans(n_clusters=2, max_iter=2000, tol=0.00001, n_init=10)\n",
    "k_means.fit(distances)"
   ]
  },
  {
   "cell_type": "markdown",
   "metadata": {},
   "source": [
    "#TODO 8\n",
    "Promeniti funkciju za prikaz tako da formira string sa razmacima između reči."
   ]
  },
  {
   "cell_type": "code",
   "execution_count": null,
   "metadata": {
    "collapsed": false
   },
   "outputs": [],
   "source": [
    "# TODO 8\n",
    "def display_result(outputs, alphabet, k_means):\n",
    "    '''\n",
    "    Funkcija određuje koja od grupa predstavlja razmak između reči, a koja između slova, i na osnovu\n",
    "    toga formira string od elemenata pronađenih sa slike.\n",
    "    Args:\n",
    "        outputs: niz izlaza iz neuronske mreže.\n",
    "        alphabet: niz karaktera koje je potrebno prepoznati\n",
    "        kmeans: obučen kmeans objekat\n",
    "    Return:\n",
    "        Vraća formatiran string\n",
    "    '''\n",
    "    # Odrediti indeks grupe koja odgovara rastojanju između reči, pomoću vrednosti iz k_means.cluster_centers_\n",
    "    result = ''\n",
    "    for output in outputs:\n",
    "        # Iterativno dodavati prepoznate elemente kao u vežbi 2, alphabet[winner(output)]\n",
    "        # Dodati space karakter u slučaju da odgovarajuće rastojanje između dva slova odgovara razmaku između reči.\n",
    "        # U ovu svrhu, koristiti atribut niz k_means.labels_ koji sadrži sortirana rastojanja između susednih slova.\n",
    "    return result\n",
    "\n",
    "todo_8_alphabet = np.array(['a', 'b', 'c'])\n",
    "todo_8_outputs = np.array([[0.8, 0.1, 0.1], [0.2, 0.8, 0], [0.1, 0.9, 0], [0.1, 0, 0.9]], np.float32)\n",
    "from unittest.util import namedtuple\n",
    "KMeansMock = namedtuple('KMeansMock', ['labels_', 'cluster_centers_'])\n",
    "todo_8_k_means_mock = KMeansMock(labels_ = [0, 1, 0], cluster_centers_ = [1, 20])\n",
    "todo_8_result = display_result(todo_8_outputs, todo_8_alphabet, todo_8_k_means_mock)\n",
    "assert todo_8_result == 'ab bc', 'string \"' + todo_8_result + '\" nije jednak očekivanom \"ab bc\"'\n",
    "print 'TODO 8: SUCCESS'"
   ]
  },
  {
   "cell_type": "markdown",
   "metadata": {},
   "source": [
    "#Izvršavanje predikcije"
   ]
  },
  {
   "cell_type": "code",
   "execution_count": null,
   "metadata": {
    "collapsed": false
   },
   "outputs": [],
   "source": [
    "inputs = prepare_for_ann(letters)\n",
    "results = ann.predict(np.array(inputs, np.float32))\n",
    "print display_result(results, alphabet, k_means)"
   ]
  },
  {
   "cell_type": "markdown",
   "metadata": {},
   "source": [
    "#TODO dodatno\n",
    "Proširiti algoritam mogućnošću da prepoznaje redove. Primer slike za prepoznavanje je\n",
    "<i>images/Dodatno.png</i>"
   ]
  },
  {
   "cell_type": "code",
   "execution_count": null,
   "metadata": {
    "collapsed": true
   },
   "outputs": [],
   "source": []
  }
 ],
 "metadata": {
  "kernelspec": {
   "display_name": "Python 2",
   "language": "python",
   "name": "python2"
  },
  "language_info": {
   "codemirror_mode": {
    "name": "ipython",
    "version": 2
   },
   "file_extension": ".py",
   "mimetype": "text/x-python",
   "name": "python",
   "nbconvert_exporter": "python",
   "pygments_lexer": "ipython2",
   "version": "2.7.10"
  }
 },
 "nbformat": 4,
 "nbformat_minor": 0
}
