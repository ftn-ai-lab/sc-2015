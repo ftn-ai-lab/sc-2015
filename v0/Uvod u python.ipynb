{
 "cells": [
  {
   "cell_type": "markdown",
   "metadata": {},
   "source": [
    "# Osnove python-a\n",
    "\n",
    "Ovaj notebook je kratak uvod, i nije dovoljan za ozbiljnije korišćenje pythona. Preporučujem sledeću knjigu: http://learnpythonthehardway.org/book/\n",
    "\n",
    "Pretpostavka je da je student pročitao notebook o python alatima.\n",
    "\n",
    "Biblioteke koje ćemo koristiti su:\n",
    "* numpy\n",
    "* matplotlib\n",
    "* ipython"
   ]
  },
  {
   "cell_type": "markdown",
   "metadata": {},
   "source": [
    "Pre nego što krenemo sa kucanjem koda po fajlovima, hajde da prvo isprobamo kako python funkcioniše u ipython alatu, REPL (Read-eval-print-loop). Više o ipythonu se može naći ovde: http://ipython.org/notebook.html.\n",
    "\n",
    "U terminalu kucamo `ipython`:"
   ]
  },
  {
   "cell_type": "code",
   "execution_count": 1,
   "metadata": {
    "collapsed": false
   },
   "outputs": [
    {
     "ename": "NameError",
     "evalue": "name 'ipython' is not defined",
     "output_type": "error",
     "traceback": [
      "\u001b[1;31m---------------------------------------------------------------------------\u001b[0m",
      "\u001b[1;31mNameError\u001b[0m                                 Traceback (most recent call last)",
      "\u001b[1;32m<ipython-input-1-aa842c094c41>\u001b[0m in \u001b[0;36m<module>\u001b[1;34m()\u001b[0m\n\u001b[1;32m----> 1\u001b[1;33m \u001b[0mipython\u001b[0m\u001b[1;33m\u001b[0m\u001b[0m\n\u001b[0m",
      "\u001b[1;31mNameError\u001b[0m: name 'ipython' is not defined"
     ]
    }
   ],
   "source": [
    "ipython"
   ]
  },
  {
   "cell_type": "markdown",
   "metadata": {},
   "source": [
    "## Osnovni tipovi\n",
    "U pythonu ne postoje primitivni tipovi. Sve je objekat, uključujući i funkcije, i fajlove (module).\n",
    "\n",
    "### Integer\n",
    "intovi rade kako bi smo i očekivali, sem deljenja, koje se ponaša kao **integer division**, tj. zaokružuje."
   ]
  },
  {
   "cell_type": "code",
   "execution_count": 16,
   "metadata": {
    "collapsed": false
   },
   "outputs": [
    {
     "name": "stdout",
     "output_type": "stream",
     "text": [
      "2\n",
      "140\n",
      "\n",
      "256\n",
      "3\n"
     ]
    }
   ],
   "source": [
    "print 1 + 1\n",
    "a = 10 * 14\n",
    "print a\n",
    "\n",
    "print # prazan string\n",
    "\n",
    "b = 2 ** 8\n",
    "print b\n",
    "\n",
    "print 7 / 2  # whaaat?"
   ]
  },
  {
   "cell_type": "markdown",
   "metadata": {},
   "source": [
    "Biblioteka `math` poseduje više funkcija, možemo je uvesti sa `import math`."
   ]
  },
  {
   "cell_type": "code",
   "execution_count": 18,
   "metadata": {
    "collapsed": false
   },
   "outputs": [
    {
     "data": {
      "text/plain": [
       "15.0"
      ]
     },
     "execution_count": 18,
     "metadata": {},
     "output_type": "execute_result"
    }
   ],
   "source": [
    "import math\n",
    "math.sqrt(225)"
   ]
  },
  {
   "cell_type": "code",
   "execution_count": 17,
   "metadata": {
    "collapsed": false
   },
   "outputs": [
    {
     "data": {
      "text/plain": [
       "3628800"
      ]
     },
     "execution_count": 17,
     "metadata": {},
     "output_type": "execute_result"
    }
   ],
   "source": [
    "math.factorial(10)"
   ]
  },
  {
   "cell_type": "markdown",
   "metadata": {},
   "source": [
    "### Stringovi\n",
    "Nalaze se unutar `\"` ili `'`"
   ]
  },
  {
   "cell_type": "code",
   "execution_count": 21,
   "metadata": {
    "collapsed": false
   },
   "outputs": [
    {
     "name": "stdout",
     "output_type": "stream",
     "text": [
      "pera\n",
      "123\n",
      "pera123\n"
     ]
    }
   ],
   "source": [
    "a = 'pera'\n",
    "print a\n",
    "\n",
    "b = \"123\"\n",
    "print b\n",
    "\n",
    "print a + b"
   ]
  },
  {
   "cell_type": "markdown",
   "metadata": {},
   "source": [
    "Potrebno je staviti `\\` ako hoćemo da koristimo navodnike unutar stringa."
   ]
  },
  {
   "cell_type": "code",
   "execution_count": 25,
   "metadata": {
    "collapsed": false
   },
   "outputs": [
    {
     "name": "stdout",
     "output_type": "stream",
     "text": [
      "'leba i igara\n"
     ]
    }
   ],
   "source": [
    "a = '\\'leba i igara'\n",
    "print a"
   ]
  },
  {
   "cell_type": "markdown",
   "metadata": {},
   "source": [
    "Print je pomalo čudan u python 2, gde omogućava da se parametri proslede bez zagradi.\n",
    "`print a`. Ovo nije preterano pametno koristiti, budući da ne postoji podrška za python 3."
   ]
  },
  {
   "cell_type": "code",
   "execution_count": 58,
   "metadata": {
    "collapsed": false
   },
   "outputs": [
    {
     "name": "stdout",
     "output_type": "stream",
     "text": [
      "'leba i igara 123\n"
     ]
    }
   ],
   "source": [
    "print a, b"
   ]
  },
  {
   "cell_type": "markdown",
   "metadata": {},
   "source": [
    "Ako zelimo da kombinujemo stringove i objekte, potrebno je pretvoriti objekat u string, funkcijom `str`:"
   ]
  },
  {
   "cell_type": "code",
   "execution_count": 62,
   "metadata": {
    "collapsed": false
   },
   "outputs": [
    {
     "ename": "TypeError",
     "evalue": "cannot concatenate 'str' and 'int' objects",
     "output_type": "error",
     "traceback": [
      "\u001b[1;31m---------------------------------------------------------------------------\u001b[0m",
      "\u001b[1;31mTypeError\u001b[0m                                 Traceback (most recent call last)",
      "\u001b[1;32m<ipython-input-62-48cc37b33aec>\u001b[0m in \u001b[0;36m<module>\u001b[1;34m()\u001b[0m\n\u001b[1;32m----> 1\u001b[1;33m \u001b[1;34m\"broj \"\u001b[0m \u001b[1;33m+\u001b[0m \u001b[1;36m1\u001b[0m \u001b[1;31m# puca\u001b[0m\u001b[1;33m\u001b[0m\u001b[0m\n\u001b[0m",
      "\u001b[1;31mTypeError\u001b[0m: cannot concatenate 'str' and 'int' objects"
     ]
    }
   ],
   "source": [
    "\"broj \" + 1 # puca"
   ]
  },
  {
   "cell_type": "code",
   "execution_count": 61,
   "metadata": {
    "collapsed": false
   },
   "outputs": [
    {
     "data": {
      "text/plain": [
       "'broj 1'"
      ]
     },
     "execution_count": 61,
     "metadata": {},
     "output_type": "execute_result"
    }
   ],
   "source": [
    "\"broj \" + str(1)"
   ]
  },
  {
   "cell_type": "markdown",
   "metadata": {},
   "source": [
    "### Liste <3\n",
    "Python liste primaju bilo kakve objekte."
   ]
  },
  {
   "cell_type": "code",
   "execution_count": 54,
   "metadata": {
    "collapsed": false
   },
   "outputs": [
    {
     "name": "stdout",
     "output_type": "stream",
     "text": [
      "[1, 2, '3', 'cetvrtak', 'petak', 6.0, ['nedelja']]\n"
     ]
    }
   ],
   "source": [
    "dani = [1, 2, '3', \"cetvrtak\", 'petak', 6.0, ['nedelja']]\n",
    "print dani\n"
   ]
  },
  {
   "cell_type": "code",
   "execution_count": 52,
   "metadata": {
    "collapsed": false
   },
   "outputs": [
    {
     "data": {
      "text/plain": [
       "7"
      ]
     },
     "execution_count": 52,
     "metadata": {},
     "output_type": "execute_result"
    }
   ],
   "source": [
    "len(dani) # duzina"
   ]
  },
  {
   "cell_type": "markdown",
   "metadata": {},
   "source": [
    "Liste se indeksiraju od nule"
   ]
  },
  {
   "cell_type": "code",
   "execution_count": 37,
   "metadata": {
    "collapsed": false
   },
   "outputs": [
    {
     "name": "stdout",
     "output_type": "stream",
     "text": [
      "1\n",
      "cetvrtak\n"
     ]
    }
   ],
   "source": [
    "print dani[0] \n",
    "print dani[3]"
   ]
  },
  {
   "cell_type": "markdown",
   "metadata": {},
   "source": [
    "Moguce je i indeksirati sa kraja niza koristeci negativne indekse:"
   ]
  },
  {
   "cell_type": "code",
   "execution_count": 38,
   "metadata": {
    "collapsed": false
   },
   "outputs": [
    {
     "name": "stdout",
     "output_type": "stream",
     "text": [
      "['nedelja']\n",
      "6.0\n"
     ]
    }
   ],
   "source": [
    "print dani[-1]\n",
    "print dani[-2]"
   ]
  },
  {
   "cell_type": "markdown",
   "metadata": {},
   "source": [
    "#### Slicing\n",
    "Elementi liste ne moraju da se vade jedan po jedan:"
   ]
  },
  {
   "cell_type": "code",
   "execution_count": 36,
   "metadata": {
    "collapsed": false
   },
   "outputs": [
    {
     "data": {
      "text/plain": [
       "[1, 2, '3']"
      ]
     },
     "execution_count": 36,
     "metadata": {},
     "output_type": "execute_result"
    }
   ],
   "source": [
    "dani[:3] # svi dani do cetvrtog elementa."
   ]
  },
  {
   "cell_type": "code",
   "execution_count": 40,
   "metadata": {
    "collapsed": false
   },
   "outputs": [
    {
     "data": {
      "text/plain": [
       "['cetvrtak', 'petak', 6.0, ['nedelja']]"
      ]
     },
     "execution_count": 40,
     "metadata": {},
     "output_type": "execute_result"
    }
   ],
   "source": [
    "dani[3:] # svi dani OD cetvrtog elementa do kraja liste"
   ]
  },
  {
   "cell_type": "code",
   "execution_count": 69,
   "metadata": {
    "collapsed": false
   },
   "outputs": [
    {
     "data": {
      "text/plain": [
       "['3', 'cetvrtak', 'petak']"
      ]
     },
     "execution_count": 69,
     "metadata": {},
     "output_type": "execute_result"
    }
   ],
   "source": [
    "dani[2:5] # dani od treceg do sestog"
   ]
  },
  {
   "cell_type": "code",
   "execution_count": 70,
   "metadata": {
    "collapsed": false
   },
   "outputs": [
    {
     "data": {
      "text/plain": [
       "['3', 'cetvrtak', 'petak', 6.0]"
      ]
     },
     "execution_count": 70,
     "metadata": {},
     "output_type": "execute_result"
    }
   ],
   "source": [
    "dani[2: -1] # dani od treceg do poslednjeg (bez poslednjeg)"
   ]
  },
  {
   "cell_type": "markdown",
   "metadata": {},
   "source": [
    "Na tab mozemo dobiti listu svih funkcija koji se mogu primeniti na objektu\n",
    "ako kucamo **`dani.`** i kliknemo tab, dobijamo ...\n",
    "Mozemo videti mnogo ponudjenih funkcija, vecina radi kako bi smo i ocekivali."
   ]
  },
  {
   "cell_type": "markdown",
   "metadata": {},
   "source": [
    "#### Range\n",
    "Range vraca niz brojeva, od prvog (sa prvim) do drugog broja (bez drugog). Treci parametar je opcion i zadaje skok."
   ]
  },
  {
   "cell_type": "code",
   "execution_count": 45,
   "metadata": {
    "collapsed": false
   },
   "outputs": [
    {
     "data": {
      "text/plain": [
       "[0, 1, 2, 3, 4, 5, 6, 7, 8, 9]"
      ]
     },
     "execution_count": 45,
     "metadata": {},
     "output_type": "execute_result"
    }
   ],
   "source": [
    "range(10)"
   ]
  },
  {
   "cell_type": "code",
   "execution_count": 46,
   "metadata": {
    "collapsed": false
   },
   "outputs": [
    {
     "data": {
      "text/plain": [
       "[10, 11, 12, 13, 14, 15, 16, 17, 18, 19]"
      ]
     },
     "execution_count": 46,
     "metadata": {},
     "output_type": "execute_result"
    }
   ],
   "source": [
    "range(10, 20)"
   ]
  },
  {
   "cell_type": "code",
   "execution_count": 47,
   "metadata": {
    "collapsed": false
   },
   "outputs": [
    {
     "data": {
      "text/plain": [
       "[10, 12, 14, 16, 18]"
      ]
     },
     "execution_count": 47,
     "metadata": {},
     "output_type": "execute_result"
    }
   ],
   "source": [
    "range(10, 20, 2)"
   ]
  },
  {
   "cell_type": "markdown",
   "metadata": {},
   "source": [
    "## Iteracija\n",
    "Jedna od lepih stvari u pythonu, je sto cesto nije potrebno razmisljati o indeksima kada iteriramo:"
   ]
  },
  {
   "cell_type": "code",
   "execution_count": 49,
   "metadata": {
    "collapsed": false
   },
   "outputs": [
    {
     "name": "stdout",
     "output_type": "stream",
     "text": [
      "1\n",
      "2\n",
      "3\n",
      "cetvrtak\n",
      "petak\n",
      "6.0\n",
      "['nedelja']\n"
     ]
    }
   ],
   "source": [
    "for dan in dani:\n",
    "    print dan"
   ]
  },
  {
   "cell_type": "markdown",
   "metadata": {},
   "source": [
    "U ovom slucaju, promenljiva dan za svaku novu iteraciju dobija vrednost sledeceg elementa u nizu. Ovim izbegavamo mogucnost da preteramo sa indeksom i dobijemo gresku.\n",
    "\n",
    "Ako zelimo da vidimo i indeks trenutnog elementa, postoji funkcija `enumerate` koja vraca tuple (nesto kao niz) indeksa i vrednosti elementa liste:"
   ]
  },
  {
   "cell_type": "code",
   "execution_count": 66,
   "metadata": {
    "collapsed": false
   },
   "outputs": [
    {
     "name": "stdout",
     "output_type": "stream",
     "text": [
      "1 sa indeksom 0\n",
      "2 sa indeksom 1\n",
      "3 sa indeksom 2\n",
      "cetvrtak sa indeksom 3\n",
      "petak sa indeksom 4\n",
      "6.0 sa indeksom 5\n",
      "['nedelja'] sa indeksom 6\n"
     ]
    }
   ],
   "source": [
    "for indeks, dan in enumerate(dani):\n",
    "    print(str(dan) + \" sa indeksom \" + str(indeks))"
   ]
  },
  {
   "cell_type": "markdown",
   "metadata": {},
   "source": [
    "Range je zgodan za iteraciju:"
   ]
  },
  {
   "cell_type": "code",
   "execution_count": 71,
   "metadata": {
    "collapsed": false
   },
   "outputs": [
    {
     "name": "stdout",
     "output_type": "stream",
     "text": [
      "kvadrat od  10  je:  100\n",
      "kvadrat od  11  je:  121\n",
      "kvadrat od  12  je:  144\n",
      "kvadrat od  13  je:  169\n",
      "kvadrat od  14  je:  196\n",
      "kvadrat od  15  je:  225\n",
      "kvadrat od  16  je:  256\n",
      "kvadrat od  17  je:  289\n",
      "kvadrat od  18  je:  324\n",
      "kvadrat od  19  je:  361\n"
     ]
    }
   ],
   "source": [
    "for i in range(10, 20):\n",
    "    print \"kvadrat od \", i, \" je: \", i*i "
   ]
  },
  {
   "cell_type": "markdown",
   "metadata": {},
   "source": [
    "### If, else, ...\n",
    "Boolean vrednosti su True i False (veliko slovo).\n",
    "Vecina boolean logike je ista kao i kod ostalih jezika.\n",
    "\n",
    "If i else idu ovako:"
   ]
  },
  {
   "cell_type": "code",
   "execution_count": 72,
   "metadata": {
    "collapsed": false
   },
   "outputs": [
    {
     "name": "stdout",
     "output_type": "stream",
     "text": [
      "spavaj\n"
     ]
    }
   ],
   "source": [
    "dan = 'subota'\n",
    "if dan == 'subota':\n",
    "    print 'spavaj'\n",
    "else:\n",
    "    print 'ne spavaj'"
   ]
  },
  {
   "cell_type": "markdown",
   "metadata": {},
   "source": [
    "## Blokovi =  {}\n",
    "Kad god uvucemo kod za 4 razmaka, napravili smo blok\n",
    "Blok u pythonu je isto sto i { } u javi - parce koda koje se izvrsi i vrati kontrolu nazad kome god da ga je pozvao.\n",
    "\n",
    "Ukoliko izadjemo iz bloka (tj. obrisemo tab) posle if-a, ta komanda se nece racunati kao deo if-a:"
   ]
  },
  {
   "cell_type": "code",
   "execution_count": 76,
   "metadata": {
    "collapsed": false
   },
   "outputs": [
    {
     "name": "stdout",
     "output_type": "stream",
     "text": [
      "moras na posao\n"
     ]
    }
   ],
   "source": [
    "if dan != 'subota':\n",
    "    print 'budi se'\n",
    "print 'moras na posao'"
   ]
  },
  {
   "cell_type": "markdown",
   "metadata": {},
   "source": [
    "Ovde vidimo da se `print 'moras na posao'` izvrsava nezavisno od dana."
   ]
  },
  {
   "cell_type": "markdown",
   "metadata": {},
   "source": [
    "## Zadatak\n",
    "Napisati kod koji izracunava Collatz-ov niz:\n",
    "1. Uzmi pocetni broj\n",
    "2. Ako je paran, podeli ga sa dva. Ako je neparan, pomnozi ga sa 3 i dodaj 1.\n",
    "3. Ovaj broj prihvati kao pocetni, idi na 2.\n",
    "\n",
    "Primer za 7:\n",
    "7, 22, 11, 34, 17, 52, 26\n",
    "\n",
    "Collatz conjecture (https://en.wikipedia.org/wiki/Collatz_conjecture) tvrdi da ce ovaj broj uvek doci do 1, nezavisno od pocetnog broja"
   ]
  }
 ],
 "metadata": {
  "kernelspec": {
   "display_name": "Python 2",
   "language": "python",
   "name": "python2"
  },
  "language_info": {
   "codemirror_mode": {
    "name": "ipython",
    "version": 2
   },
   "file_extension": ".py",
   "mimetype": "text/x-python",
   "name": "python",
   "nbconvert_exporter": "python",
   "pygments_lexer": "ipython2",
   "version": "2.7.6"
  }
 },
 "nbformat": 4,
 "nbformat_minor": 0
}
