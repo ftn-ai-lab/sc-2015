{
 "cells": [
  {
   "cell_type": "markdown",
   "metadata": {},
   "source": [
    "# Osnove pythona, numpy-a, matplotlib-a i alata za razvoj"
   ]
  },
  {
   "cell_type": "markdown",
   "metadata": {},
   "source": [
    "Pre nego što krenemo sa programiranjem u pythonu, potrebno je malo da popričamo o alatima."
   ]
  },
  {
   "cell_type": "markdown",
   "metadata": {},
   "source": [
    "## Linux i git"
   ]
  },
  {
   "cell_type": "markdown",
   "metadata": {},
   "source": [
    "Materijale za vežbe je potrebno skinuti sa git-a. \n",
    "\n",
    "Git je distribuirani sistem za verzionisanje softvera, i služi kako bi smo pratili izmene na softveru, sarađivali sa kolegama, i delili kod bez brige o merge konfliktima (ukoliko više korisnika menja isti fajl, pri snimanju dolazi do konflikta, budući da će korisnik koji poslednji snimi fajl pregaziti izmene kolege pre njega).\n",
    "\n",
    "Kako bi smo skinuli vežbe sa gita, potrebno je prvo otvoriti terminal, i napraviti direktorijum u kom ćemo raditi.\n",
    "Sledeće komande su bash komande, koje interpretira većina terminala na Linux-u."
   ]
  },
  {
   "cell_type": "code",
   "execution_count": null,
   "metadata": {
    "collapsed": true
   },
   "outputs": [],
   "source": [
    "mkdir sc-vezbe # kreira sc-vezbe direktorijum u home direktorijumu\n",
    "cd sc-vezbe    # ulazi u taj direktorijum"
   ]
  },
  {
   "cell_type": "markdown",
   "metadata": {},
   "source": [
    "Kada se nalazimo unutar praznog direktorijuma u kom ćemo raditi, potrebno je skinuti kod sa github-a, sajta koji nudi uslugu besplatnog git servera, gde možemo čuvati kod.**<code> git clone adresa</code>** komanda klonira trenutno stanje određenog repozitorujuma, koji se nalazi na adresa argumentu. (Kod ne mora da bude host-ovan na github.com, postoji mnogo različitih git servera, i često koristimo sopstvene servere)"
   ]
  },
  {
   "cell_type": "code",
   "execution_count": null,
   "metadata": {
    "collapsed": false
   },
   "outputs": [],
   "source": [
    "git clone https://github.com/ftn-ai-lab/sc-2015"
   ]
  },
  {
   "cell_type": "markdown",
   "metadata": {},
   "source": [
    "Ova komanda skida trenutnu verziju koda sa neta. Pored toga, skinuta je i cela istorija koda, tako da je moguće posmatrati koje su sve izmene pravljene na kodu.**<code> git log</code>** pokazuje sve commit-ove datog git projekta.\n",
    "\n",
    "Sa **<code>ls</code>** možemo videti šta se nalazi u direktorijumu. Sa **<code>ls -a</code>** vidimo i skrivene direkotorijume, između ostalog i skrivene dir. Primetiti (i slobodno istražiti) direktorijum .git, gde se nalaze sve prošle verzije koda."
   ]
  },
  {
   "cell_type": "markdown",
   "metadata": {},
   "source": [
    "## Virtualenv i pip"
   ]
  },
  {
   "cell_type": "markdown",
   "metadata": {},
   "source": [
    "Python poseduje ogroman broj biblioteka koje se izuzetno lako instaliraju alatom **pip**. Većina biblioteka koje koriste isključivo python se instaliraju sa **<code>pip install ime_biblioteke</code>**. **Ovako instalirane biblioteke se instaliraju globalno** - tu biblioteku možete koristiti nezavisno od toga gde se nalazite u sistemu. \n",
    "\n",
    "Možemo videti koje su sve python biblioteke instalirane preko pip-a komandom:"
   ]
  },
  {
   "cell_type": "code",
   "execution_count": null,
   "metadata": {
    "collapsed": false
   },
   "outputs": [],
   "source": [
    "pip freeze"
   ]
  },
  {
   "cell_type": "markdown",
   "metadata": {},
   "source": [
    "Ukoliko želimo da snimimo output ove komande u fajl i da ispišemo taj fajl, koristimo:"
   ]
  },
  {
   "cell_type": "code",
   "execution_count": null,
   "metadata": {
    "collapsed": false
   },
   "outputs": [],
   "source": [
    "pip freeze > freeze.txt\n",
    "cat freeze.txt"
   ]
  },
  {
   "cell_type": "markdown",
   "metadata": {},
   "source": [
    "Ova komanda koristi linux **pipe operator** koji presumeri output komande u fajl. "
   ]
  },
  {
   "cell_type": "markdown",
   "metadata": {},
   "source": [
    "Posle nekoliko python projekata, naićićete na probleme oko verzija biblioteka: vaš kod koristi staru verziju biblioteke, skinete novu verziju biblioteke koja više nema funkcije koje koristite ili se drugačije ponaša, i vaš validan kod više ne radi.\n",
    "\n",
    "Kako bi smo sprečili ovaj problem, zgodno je da svaki projekat instalira sopstvene biblioteke. Ovo dovodi da se neka biblioteka više puta instalira na istoj mašini, ali većina biblioteka nije pretrano velika. Time ukoliko nekad globalno instaliramo novu verziju biblioteke, projekat i dalje čuva sopstvenu verziju biblioteke.\n",
    "\n",
    "Alat koji čuva sopstvene biblioteke se zove Virtualenv. Virtualenv kreira virtuelna okruženja koja kada su aktivirana, **<code>pip install</code>** instalira biblioteku u to virtuelno okruženje. \n",
    "\n",
    "Za neki projekat kao što su ove vežbe, možemo kreirati i aktivirati novo okruženje sledećim komandama:"
   ]
  },
  {
   "cell_type": "code",
   "execution_count": null,
   "metadata": {
    "collapsed": true
   },
   "outputs": [],
   "source": [
    "virtualenv venv            # kreira folder venv u kome se nalaze biblioteke\n",
    "source venv/bin/activate   # nije dovoljno samo stvoriti virtual environment, ovom komandom ga aktiviramo"
   ]
  },
  {
   "cell_type": "markdown",
   "metadata": {
    "collapsed": false
   },
   "source": [
    "Ukoliko sada pogledamo biblioteke koje su instalirane, videćemo razliku u odnosu na freeze.txt fajl."
   ]
  },
  {
   "cell_type": "code",
   "execution_count": null,
   "metadata": {
    "collapsed": false
   },
   "outputs": [],
   "source": [
    "pip freeze"
   ]
  },
  {
   "cell_type": "markdown",
   "metadata": {},
   "source": [
    "Sada **<code>pip freeze</code>** izveštava o bibliotekama u virtual environmentu.\n",
    "Ukoliko sada koristimo python, on će koristiti isključivo biblioteke instalirane u virtual environment-u. "
   ]
  },
  {
   "cell_type": "markdown",
   "metadata": {},
   "source": [
    "Komandom **<code>deactivate</code>** gasimo virtual environment, tako da koristimo globalno instalirane biblioteke."
   ]
  },
  {
   "cell_type": "code",
   "execution_count": null,
   "metadata": {
    "collapsed": true
   },
   "outputs": [],
   "source": [
    "deactivate"
   ]
  },
  {
   "cell_type": "markdown",
   "metadata": {},
   "source": [
    "**Kada god radite u datom projektu, uvek aktivirajte virtual env, inače biblioteke koje koristite su globalne i globalno ih instalirate kada koristite <code>pip install</code>.**"
   ]
  },
  {
   "cell_type": "markdown",
   "metadata": {},
   "source": [
    "## Python i IPython"
   ]
  },
  {
   "cell_type": "markdown",
   "metadata": {},
   "source": []
  }
 ],
 "metadata": {
  "kernelspec": {
   "display_name": "Python 2",
   "language": "python",
   "name": "python2"
  },
  "language_info": {
   "codemirror_mode": {
    "name": "ipython",
    "version": 2
   },
   "file_extension": ".py",
   "mimetype": "text/x-python",
   "name": "python",
   "nbconvert_exporter": "python",
   "pygments_lexer": "ipython2",
   "version": "2.7.6"
  }
 },
 "nbformat": 4,
 "nbformat_minor": 0
}
