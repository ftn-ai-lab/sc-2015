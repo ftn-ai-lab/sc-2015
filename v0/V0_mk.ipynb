{
 "cells": [
  {
   "cell_type": "markdown",
   "metadata": {
    "collapsed": true
   },
   "source": [
    "# Python uvod\n",
    "\n"
   ]
  },
  {
   "cell_type": "markdown",
   "metadata": {},
   "source": [
    "### Kontrola Toka\n",
    "\n",
    "Sintaksa:\n",
    "\n",
    "    if <condition>:\n",
    "        <code block>\n",
    "    elif <condition>:\n",
    "        <code block>\n",
    "    elif <condition>:\n",
    "        <code block>\n",
    "    else:\n",
    "        <code block>\n",
    "\n",
    "Where:\n",
    "\n",
    "+ `<condition>`: uslov koji može biti true ili false.\n",
    "+ `<code block>`: sekvenca instrukcija.\n",
    "+ `elif` i `else` su opcioni i nekoliko `elif`-ova za jedan `if` može biti korišćeno, ali samo jedan `else` mora biti na kraju.\n"
   ]
  },
  {
   "cell_type": "code",
   "execution_count": 16,
   "metadata": {
    "collapsed": false
   },
   "outputs": [
    {
     "name": "stdout",
     "output_type": "stream",
     "text": [
      "Prijatno\n"
     ]
    }
   ],
   "source": [
    "temp = 23 # upisati trenutnu temperaturu\n",
    "\n",
    "if temp < 0:\n",
    "    print 'Brrrr...'\n",
    "elif 0 <= temp <= 20:\n",
    "    print 'Hladno'\n",
    "elif 21 <= temp <= 25:\n",
    "    print 'Prijatno'\n",
    "elif 26 <= temp <= 35:\n",
    "    print 'Vruce'\n",
    "else:\n",
    "    print 'Veoma vruce!'"
   ]
  },
  {
   "cell_type": "markdown",
   "metadata": {},
   "source": [
    "### Tipovi podataka"
   ]
  },
  {
   "cell_type": "markdown",
   "metadata": {},
   "source": [
    "##### Brojevi\n",
    "-------\n",
    "\n",
    "+ Integer (*int*): i = 1\n",
    "+ Floating Point real (*float*): f = 3.14\n",
    "+ Complex (*complex*): c = 3 + 4j\n",
    "\n",
    "Primer:"
   ]
  },
  {
   "cell_type": "code",
   "execution_count": 17,
   "metadata": {
    "collapsed": false
   },
   "outputs": [
    {
     "name": "stdout",
     "output_type": "stream",
     "text": [
      "int(3.14) = 3\n",
      "float(5) = 5.0\n",
      "5.0 / 2 + 3 =  5.5\n",
      "int('20', 8) = 16\n",
      "int('20', 16) = 32\n",
      "c = (3+4j)\n",
      "Real Part: 3.0\n",
      "Imaginary Part: 4.0\n",
      "Conjugate: (3-4j)\n"
     ]
    }
   ],
   "source": [
    "# Converting real to integer\n",
    "print 'int(3.14) =', int(3.14)\n",
    "\n",
    "# Converting integer to real\n",
    "print 'float(5) =', float(5)\n",
    "\n",
    "# Calculation between integer and real results in real\n",
    "print '5.0 / 2 + 3 = ', 5.0 / 2 + 3\n",
    "\n",
    "# Integers in other base\n",
    "print \"int('20', 8) =\", int('20', 8) # base 8\n",
    "print \"int('20', 16) =\", int('20', 16) # base 16\n",
    "\n",
    "# Operations with complex numbers\n",
    "c = 3 + 4j\n",
    "print 'c =', c\n",
    "print 'Real Part:', c.real\n",
    "print 'Imaginary Part:', c.imag\n",
    "print 'Conjugate:', c.conjugate()"
   ]
  },
  {
   "cell_type": "markdown",
   "metadata": {},
   "source": [
    "Aritmetičke operacije:\n",
    "\n",
    "+ Sabiranje (+)\n",
    "+ Oduzimanje (-)\n",
    "+ Množenje (*)\n",
    "+ Deljenje (/): između dva integera rezultat je isti kao i kod integer deljenja. \n",
    "+ Integer Deljenje (//): \n",
    "+ Modul (%): vreća ostatak pri deljenju.\n",
    "+ Stepen (**): \n",
    "+ Pozitivan (+)\n",
    "+ Negativan (-)\n",
    "\n",
    "Logičke Operacije:\n",
    "\n",
    "+ <\n",
    "+ >\n",
    "+ <=\n",
    "+ >=\n",
    "+ (==)\n",
    "+ !=\n",
    "\n",
    "Bitwise Operacije:\n",
    "\n",
    "+ Left Shift (<<)\n",
    "+ Right Shift (>>)\n",
    "+ And (&)\n",
    "+ Or (|)\n",
    "+ Exclusive Or (^)\n",
    "+ Inversion (~)\n",
    "\n",
    "Stringovi\n",
    "\n",
    "Primer"
   ]
  },
  {
   "cell_type": "code",
   "execution_count": 18,
   "metadata": {
    "collapsed": false
   },
   "outputs": [
    {
     "name": "stdout",
     "output_type": "stream",
     "text": [
      "The Camel run away!\n",
      "Size of Camel => 5\n",
      "C\n",
      "a\n",
      "m\n",
      "e\n",
      "l\n",
      "CAMEL\n",
      "CamelCamelCamel\n"
     ]
    }
   ],
   "source": [
    "s = 'Camel'\n",
    "\n",
    "# Concatenation\n",
    "print 'The ' + s + ' run away!'\n",
    "\n",
    "# Interpolation\n",
    "print 'Size of %s => %d' % (s, len(s))\n",
    "\n",
    "# String processed as a sequence\n",
    "for ch in s: print ch\n",
    "\n",
    "# Strings are objects\n",
    "if s.startswith('C'): print s.upper()\n",
    "\n",
    "# what will happen? \n",
    "print 3 * s\n",
    "# 3 * s is consistent with s + s + s"
   ]
  },
  {
   "cell_type": "markdown",
   "metadata": {},
   "source": [
    "Python indexi:\n",
    "====\n",
    "\n",
    "+ Počinju od nule.\n",
    "+ Broje se od nazad ako su negativni.\n",
    "+ Mogu biti definisani kao sekcije, `[start: end + 1: step]`. Ako se ne stavi start, biće računato od nule. Ako nije zadata vrednost end + 1, biće računata veličina objekta. Step je jedan, ako se ne zada nikakva vrednost."
   ]
  },
  {
   "cell_type": "code",
   "execution_count": 19,
   "metadata": {
    "collapsed": false
   },
   "outputs": [
    {
     "name": "stdout",
     "output_type": "stream",
     "text": [
      "nohtyP\n"
     ]
    }
   ],
   "source": [
    "print 'Python'[::-1]\n",
    "# shows: nohtyP"
   ]
  },
  {
   "cell_type": "markdown",
   "metadata": {},
   "source": [
    "#### Liste\n",
    "\n",
    "Syntax:\n",
    "\n",
    "    list = [a, b, ..., z]\n",
    "\n",
    "Operacije nad listama:"
   ]
  },
  {
   "cell_type": "code",
   "execution_count": 20,
   "metadata": {
    "collapsed": false
   },
   "outputs": [
    {
     "name": "stdout",
     "output_type": "stream",
     "text": [
      "Yes\n",
      "Genesis\n",
      "Pink Floyd\n",
      "ELP\n",
      "1 => Yes\n",
      "2 => King Crimson\n",
      "3 => Genesis\n",
      "4 => Camel\n",
      "['King Crimson', 'Genesis', 'Camel']\n",
      "list: ['A', 'B', 'C']\n",
      "Left A , remain 2\n",
      "Left B , remain 1\n",
      "Left C , remain 0\n",
      "list: ['D', 'E', 'F']\n",
      "Left F , remain 2\n",
      "Left E , remain 1\n",
      "Left D , remain 0\n"
     ]
    }
   ],
   "source": [
    "# a new list: 70s Brit Progs\n",
    "progs = ['Yes', 'Genesis', 'Pink Floyd', 'ELP']\n",
    "\n",
    "# processing the entire list\n",
    "for prog in progs:\n",
    "    print prog\n",
    "\n",
    "# Changing the last element\n",
    "progs[-1] = 'King Crimson'\n",
    "\n",
    "# Including\n",
    "progs.append('Camel')\n",
    "\n",
    "# Removing\n",
    "progs.remove('Pink Floyd')\n",
    "\n",
    "# Ordering \n",
    "progs.sort()\n",
    "\n",
    "# Inverting\n",
    "progs.reverse()\n",
    "\n",
    "# prints with number order\n",
    "for i, prog in enumerate(progs):\n",
    "    print i + 1, '=>', prog\n",
    "\n",
    "# prints from de second item\n",
    "print progs[1:]\n",
    "\n",
    "my_list = ['A', 'B', 'C']\n",
    "print 'list:', my_list\n",
    "\n",
    "# The empty list is evaluated as false\n",
    "while my_list:\n",
    "    # In queues, the first item is the first to go out\n",
    "    # pop(0) removes and returns the first item \n",
    "    print 'Left', my_list.pop(0), ', remain', len(my_list)\n",
    "\n",
    "# More items on the list\n",
    "my_list += ['D', 'E', 'F']\n",
    "print 'list:', my_list\n",
    "\n",
    "while my_list:\n",
    "    # On stacks, the first item is the last to go out\n",
    "    # pop() removes and retorns the last item\n",
    "    print 'Left', my_list.pop(), ', remain', len(my_list)"
   ]
  },
  {
   "cell_type": "markdown",
   "metadata": {},
   "source": [
    "Tuples (Skup)\n",
    "------\n",
    "\n",
    "Syntax:\n",
    "\n",
    "    my_tuple = (a, b, ..., z)"
   ]
  },
  {
   "cell_type": "code",
   "execution_count": 21,
   "metadata": {
    "collapsed": false
   },
   "outputs": [
    {
     "name": "stdout",
     "output_type": "stream",
     "text": [
      "([1, 2, 3], 4)\n"
     ]
    }
   ],
   "source": [
    "t = ([1, 2], 4)\n",
    "t[0].append(3)\n",
    "\n",
    "print t"
   ]
  },
  {
   "cell_type": "markdown",
   "metadata": {},
   "source": [
    "#### Set"
   ]
  },
  {
   "cell_type": "code",
   "execution_count": 22,
   "metadata": {
    "collapsed": false
   },
   "outputs": [
    {
     "name": "stdout",
     "output_type": "stream",
     "text": [
      "s1: set([0, 1, 2]) \n",
      "s2: set([8, 9, 10]) \n",
      "s3: set([8, 2, 4, 6])\n",
      "Union of s1 and s2: set([0, 1, 2, 8, 9, 10])\n",
      "Difference with s3: set([0, 1, 10, 9])\n",
      "Intersection with s3: set([8, 2])\n",
      "s1 includes 1 and 2\n",
      "s1 and s2 have no common elements\n"
     ]
    }
   ],
   "source": [
    "# Data sets\n",
    "s1 = set(range(3))\n",
    "s2 = set(range(10, 7, -1))\n",
    "s3 = set(range(2, 10, 2))\n",
    "\n",
    "# Shows the data\n",
    "print 's1:', s1, '\\ns2:', s2, '\\ns3:', s3\n",
    "\n",
    "# Union\n",
    "s1s2 = s1.union(s2)\n",
    "print 'Union of s1 and s2:', s1s2\n",
    "\n",
    "# Difference\n",
    "print 'Difference with s3:', s1s2.difference(s3)\n",
    "\n",
    "# Intersectiono\n",
    "print 'Intersection with s3:', s1s2.intersection(s3)\n",
    "\n",
    "# Tests if a set includes the other\n",
    "if s1.issuperset([1, 2]):\n",
    "    print 's1 includes 1 and 2'\n",
    "\n",
    "# Tests if there is no common elements\n",
    "if s1.isdisjoint(s2):\n",
    "    print 's1 and s2 have no common elements'"
   ]
  },
  {
   "cell_type": "markdown",
   "metadata": {},
   "source": [
    "### Rečnik\n",
    "\n",
    "Syntax:\n",
    "dictionary = {'a': a, 'b': b, ..., 'z': z}\n",
    "\n",
    "\n",
    "Primeri:\n",
    "dic = {'name': 'Shirley Manson', 'band': 'Garbage'}\n",
    "\n",
    "\n",
    "Pristupanje elementima:\n",
    "print dic['name']\n",
    "\n",
    "\n",
    "Dodavenja elemenata:\n",
    "dic['album'] = 'Version 2.0'\n",
    "\n",
    "\n",
    "Brisanje elementa iz rečnika:\n",
    "del dic['album']\n",
    "\n",
    "\n",
    "Pribavljanje svih ključeva, vrednosti i parova ključ, vrednost:\n",
    "items = dic.items()\n",
    "keys = dic.keys()\n",
    "values = dic.values()\n",
    "\n"
   ]
  },
  {
   "cell_type": "code",
   "execution_count": 23,
   "metadata": {
    "collapsed": false
   },
   "outputs": [
    {
     "name": "stdout",
     "output_type": "stream",
     "text": [
      "Yes => ['Close To The Edge', 'Fragile']\n",
      "ELP => ['Brain Salad Surgery']\n",
      "Genesis => ['Foxtrot', 'The Nursery Crime']\n",
      "King Crimson => ['Red', 'Discipline']\n"
     ]
    }
   ],
   "source": [
    "# Progs and their albums\n",
    "progs = {'Yes': ['Close To The Edge', 'Fragile'],\n",
    "    'Genesis': ['Foxtrot', 'The Nursery Crime'],\n",
    "    'ELP': ['Brain Salad Surgery']}\n",
    "\n",
    "# More progs\n",
    "progs['King Crimson'] = ['Red', 'Discipline']\n",
    "\n",
    "# items() returns a list of \n",
    "# tuples with key and value \n",
    "for prog, albums in progs.items():\n",
    "    print prog, '=>', albums\n",
    "\n",
    "# If there is 'ELP', removes\n",
    "if progs.has_key('ELP'):\n",
    "    del progs['ELP']"
   ]
  },
  {
   "cell_type": "code",
   "execution_count": 24,
   "metadata": {
    "collapsed": true
   },
   "outputs": [],
   "source": [
    "import matplotlib.pyplot as plt #ukljucivanje u rad biblioteka, as predstavlja alias pod kojim se biblioteka koristi u kodu\n",
    "import numpy as np\n",
    "%matplotlib inline"
   ]
  },
  {
   "cell_type": "markdown",
   "metadata": {},
   "source": [
    "### Funkcije\n",
    "\n",
    "Funkcije u python programskom jeziku počinju sa ključnom reči 'def', zatim sledi naziv funckije sa parametrima i dvotačka ':'. Funkcija može da ima povratnu vrednost.\n",
    "\n",
    "Kao primer biće implementirana sledeća funkcija od x $x$:\n",
    "\n",
    "$f(x)= \\cos(x) \\qquad x <0$\n",
    "\n",
    "$f(x) = \\exp(-x) \\qquad x \\ge 0$\n",
    "\n",
    "Implementirajmo $f(x)$ funkciji koja se zove `func`. Funkcija vraca vrednost: $z$."
   ]
  },
  {
   "cell_type": "code",
   "execution_count": 25,
   "metadata": {
    "collapsed": false
   },
   "outputs": [
    {
     "name": "stdout",
     "output_type": "stream",
     "text": [
      "8.19401262399e-40\n",
      "-0.448073616129\n",
      "8.19401262399e-40\n"
     ]
    }
   ],
   "source": [
    "def func(x = 90):\n",
    "    if x < 0:\n",
    "        f = np.cos(x)\n",
    "    else:\n",
    "        f = np.exp(-x)\n",
    "    return f\n",
    "\n",
    "print func(90)\n",
    "print func(-90)\n",
    "print func()"
   ]
  },
  {
   "cell_type": "code",
   "execution_count": 26,
   "metadata": {
    "collapsed": false
   },
   "outputs": [
    {
     "name": "stdout",
     "output_type": "stream",
     "text": [
      "(-0.44807361612917013, 1.2204032943178408e+39)\n",
      "-0.448073616129\n",
      "1.22040329432e+39\n"
     ]
    }
   ],
   "source": [
    "def func2(x):\n",
    "    assert(x>0)\n",
    "    return np.cos(x), np.exp(x)\n",
    "print func2(90)\n",
    "a,b = func2(90)\n",
    "print a\n",
    "print b\n",
    "#print func2(-5)"
   ]
  },
  {
   "cell_type": "markdown",
   "metadata": {},
   "source": [
    "###TODO 1\n",
    "Napisati python funkciju za sledeći matematički izraz:\n",
    "\n",
    "$f(x)=e^{-\\alpha x}\\cos(x)$\n",
    "\n",
    "Funkcija prima 'x' i alpha kao ulazne parametre i vraća vrednost funkcije. Funkciju nazovite jedinstveno, a ne 'func'.\n",
    "Dodati labele za ose.\n"
   ]
  },
  {
   "cell_type": "code",
   "execution_count": 27,
   "metadata": {
    "collapsed": false
   },
   "outputs": [
    {
     "data": {
      "text/plain": [
       "<matplotlib.legend.Legend at 0x9d9aeb8>"
      ]
     },
     "execution_count": 27,
     "metadata": {},
     "output_type": "execute_result"
    },
    {
     "data": {
      "image/png": "[encoded data removed]",
      "text/plain": [
       "<matplotlib.figure.Figure at 0xa12f9b0>"
      ]
     },
     "metadata": {},
     "output_type": "display_data"
    }
   ],
   "source": [
    "#Resenje\n",
    "\n",
    "def test(x, alpha):\n",
    "    return np.exp(-alpha * x) * np.cos(x)\n",
    "x = np.linspace(0, 10*np.pi, 100)\n",
    "y1 = test(x, 0.1) \n",
    "y2 = test(x, 0.2)\n",
    "plt.plot(x, y1,'b', label=r'$\\alpha$=0.1') \n",
    "plt.plot(x, y2,'r', label=r'$\\alpha$=0.2')\n",
    "plt.xlabel('x')\n",
    "plt.ylabel('f(x)')\n",
    "plt.legend()"
   ]
  },
  {
   "cell_type": "markdown",
   "metadata": {},
   "source": [
    "### Lokalne promenljive\n",
    "\n",
    "Promenljive definisane unutar funkcije, mogu se koristiti samo unutar te funkcije"
   ]
  },
  {
   "cell_type": "code",
   "execution_count": 28,
   "metadata": {
    "collapsed": false
   },
   "outputs": [
    {
     "name": "stdout",
     "output_type": "stream",
     "text": [
      "17\n",
      "Goodmorning, var1 equals 4\n",
      "value of var1 outside test3: 8\n"
     ]
    }
   ],
   "source": [
    "def localtest(x):\n",
    "    a = 3\n",
    "    b = 5\n",
    "    return a*x + b\n",
    "print localtest(4)\n",
    "# print a  # Greska, a je nepoznato izvan funkcije\n",
    "\n",
    "var1 = 8\n",
    "def test3():\n",
    "    var1 = 4\n",
    "    print 'Goodmorning, var1 equals', var1\n",
    "test3()\n",
    "print 'value of var1 outside test3:', var1"
   ]
  },
  {
   "cell_type": "markdown",
   "metadata": {},
   "source": [
    "### TODO 2 definisati funkciju za racunanje Fibonacijevog niza"
   ]
  },
  {
   "cell_type": "code",
   "execution_count": 29,
   "metadata": {
    "collapsed": false
   },
   "outputs": [
    {
     "name": "stdout",
     "output_type": "stream",
     "text": [
      "1 => 1\n",
      "2 => 2\n",
      "3 => 3\n",
      "4 => 5\n",
      "5 => 8\n"
     ]
    }
   ],
   "source": [
    "### Resenje\n",
    "def fib(n):\n",
    "    \"\"\"Fibonacci:\n",
    "    fib(n) = fib(n - 1) + fib(n - 2) se n > 1\n",
    "    fib(n) = 1 se n <= 1\n",
    "    \"\"\"\n",
    "    if n > 1:\n",
    "        return fib(n - 1) + fib(n - 2)\n",
    "    else:\n",
    "        return 1\n",
    "\n",
    "for i in [1, 2, 3, 4, 5]:\n",
    "    print i, '=>', fib(i)"
   ]
  }
 ],
 "metadata": {
  "kernelspec": {
   "display_name": "Python 2",
   "language": "python",
   "name": "python2"
  },
  "language_info": {
   "codemirror_mode": {
    "name": "ipython",
    "version": 2
   },
   "file_extension": ".py",
   "mimetype": "text/x-python",
   "name": "python",
   "nbconvert_exporter": "python",
   "pygments_lexer": "ipython2",
   "version": "2.7.10"
  }
 },
 "nbformat": 4,
 "nbformat_minor": 0
}
